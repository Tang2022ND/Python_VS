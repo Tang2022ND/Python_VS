{
 "cells": [
  {
   "cell_type": "code",
   "execution_count": 1,
   "metadata": {},
   "outputs": [],
   "source": [
    "import pandas as pd\n",
    "import numpy as np\n",
    "import seaborn as sns\n",
    "import time\n",
    "from datetime import datetime, timedelta"
   ]
  },
  {
   "cell_type": "code",
   "execution_count": 2,
   "metadata": {},
   "outputs": [],
   "source": [
    "#we are only going to use 2021 data, otherwise the computer will run too slow\n",
    "def divvy_data_locator(years, months, start_station, end_station):\n",
    "    df_divvy = pd.read_csv('divvy_trip_history_201909-202108.csv')\n",
    "    df_divvy = df_divvy.loc[(df_divvy.year.isin(years)) & (df_divvy.month.isin(months)) & ((df_divvy.start_station_name == start_station) | (df_divvy.end_station_name == end_station)),:]\n",
    "    return df_divvy\n"
   ]
  },
  {
   "cell_type": "code",
   "execution_count": 3,
   "metadata": {},
   "outputs": [
    {
     "name": "stderr",
     "output_type": "stream",
     "text": [
      "C:\\Users\\TF2020\\AppData\\Local\\Temp/ipykernel_2652/2272659162.py:1: DtypeWarning: Columns (3,8,10) have mixed types.Specify dtype option on import or set low_memory=False.\n",
      "  total_raw = divvy_data_locator(years = range(2019,2022),\n"
     ]
    }
   ],
   "source": [
    "total_raw = divvy_data_locator(years = range(2019,2022),\n",
    "                               months= range(1,13),\n",
    "                               start_station = 'Michigan Ave & Oak St',\n",
    "                               end_station = 'Michigan Ave & Oak St' )"
   ]
  },
  {
   "cell_type": "code",
   "execution_count": 4,
   "metadata": {},
   "outputs": [
    {
     "data": {
      "text/plain": [
       "0"
      ]
     },
     "execution_count": 4,
     "metadata": {},
     "output_type": "execute_result"
    }
   ],
   "source": [
    "sum(total_raw['start_station_id'].isnull() & total_raw['end_station_id'].isnull())\n",
    "#it seems like we don't have any missing value here"
   ]
  },
  {
   "cell_type": "code",
   "execution_count": 5,
   "metadata": {},
   "outputs": [],
   "source": [
    "#Change the data type for certain columns\n",
    "total_raw['started_at'] = pd.to_datetime(total_raw['started_at'])\n",
    "total_raw['ended_at'] = pd.to_datetime(total_raw['ended_at'])\n",
    "\n",
    "#We could collect the hour data so the prediction can be more appliable to the operation.\n",
    "total_raw['started_hr'] = total_raw['started_at'].dt.hour\n",
    "total_raw['ended_hr'] = total_raw['ended_at'].dt.hour"
   ]
  },
  {
   "cell_type": "code",
   "execution_count": 6,
   "metadata": {},
   "outputs": [
    {
     "data": {
      "text/plain": [
       "<AxesSubplot:xlabel='started_hr', ylabel='Count'>"
      ]
     },
     "execution_count": 6,
     "metadata": {},
     "output_type": "execute_result"
    },
    {
     "data": {
      "image/png": "[encoded data removed]",
      "text/plain": [
       "<Figure size 432x288 with 1 Axes>"
      ]
     },
     "metadata": {
      "needs_background": "light"
     },
     "output_type": "display_data"
    }
   ],
   "source": [
    "sns.histplot(data = total_raw, x = 'started_hr')"
   ]
  },
  {
   "cell_type": "code",
   "execution_count": 7,
   "metadata": {},
   "outputs": [
    {
     "data": {
      "text/plain": [
       "<AxesSubplot:xlabel='started_at', ylabel='Count'>"
      ]
     },
     "execution_count": 7,
     "metadata": {},
     "output_type": "execute_result"
    },
    {
     "data": {
      "image/png": "[encoded data removed]",
      "text/plain": [
       "<Figure size 432x288 with 1 Axes>"
      ]
     },
     "metadata": {
      "needs_background": "light"
     },
     "output_type": "display_data"
    }
   ],
   "source": [
    "sns.histplot(data = total_raw, x = 'started_at')"
   ]
  },
  {
   "cell_type": "code",
   "execution_count": 8,
   "metadata": {},
   "outputs": [
    {
     "data": {
      "text/plain": [
       "<AxesSubplot:xlabel='day_of_week', ylabel='Count'>"
      ]
     },
     "execution_count": 8,
     "metadata": {},
     "output_type": "execute_result"
    },
    {
     "data": {
      "image/png": "[encoded data removed]",
      "text/plain": [
       "<Figure size 432x288 with 1 Axes>"
      ]
     },
     "metadata": {
      "needs_background": "light"
     },
     "output_type": "display_data"
    }
   ],
   "source": [
    "sns.histplot(data = total_raw, x = 'day_of_week')"
   ]
  },
  {
   "cell_type": "code",
   "execution_count": 9,
   "metadata": {},
   "outputs": [],
   "source": [
    "total_raw = total_raw.dropna(subset= ['start_station_id','end_station_id'],how= 'all')\n",
    "total_raw['date'] = pd.to_datetime(total_raw['date'])\n",
    "#drop the row if both start station and end station are missing."
   ]
  },
  {
   "cell_type": "code",
   "execution_count": 10,
   "metadata": {},
   "outputs": [],
   "source": [
    "full_date = pd.DataFrame(pd.date_range('2019-09-01','2021-09-1',freq='h'), columns= ['time']).iloc[:-1,:]\n",
    "\n",
    "full_date['date'] = pd.to_datetime(full_date['time'].dt.date)\n",
    "full_date['time'] = full_date['time'].dt.hour\n",
    "full_date['day_of_week'] = full_date['date'].dt.strftime('%A')\n"
   ]
  },
  {
   "cell_type": "code",
   "execution_count": 11,
   "metadata": {},
   "outputs": [],
   "source": [
    "#we need number for both start and arrival \n",
    "start_total_data = total_raw.loc[total_raw.start_station_name == 'Michigan Ave & Oak St',:].value_counts(subset=['date','started_hr','day_of_week']).reset_index()\n",
    "start_total_data.rename(columns={'started_hr':'time'}, inplace= True)\n",
    "start_total_data = full_date.merge(start_total_data, how= 'outer')\n",
    "start_total_data['trip'] = 'start'\n",
    "\n",
    "arrival_total_data = total_raw.loc[total_raw.end_station_name == 'Michigan Ave & Oak St',:].value_counts(subset=['date','ended_hr','day_of_week']).reset_index()\n",
    "arrival_total_data.rename(columns={'ended_hr':'time'}, inplace= True)\n",
    "arrival_total_data = full_date.merge(arrival_total_data, how= 'outer')\n",
    "arrival_total_data[['trip']] = 'arrival'\n",
    "\n",
    "total_data = pd.concat([start_total_data,arrival_total_data],axis=0).reset_index(drop= True)\n",
    "\n",
    "total_data.rename(columns={0:'Number_of_rider'}, inplace = True)\n",
    "total_data = total_data.fillna(0)"
   ]
  },
  {
   "cell_type": "markdown",
   "metadata": {},
   "source": [
    "### Weather Data Scraping (Skip it if you have weather data ready)"
   ]
  },
  {
   "cell_type": "code",
   "execution_count": 41,
   "metadata": {},
   "outputs": [],
   "source": [
    "#set up scraping enviroment\n",
    "from bs4 import BeautifulSoup\n",
    "import requests\n",
    "from selenium import webdriver\n",
    "from webdrivermanager.chrome import ChromeDriverManager\n",
    "\n",
    "ChromeDriverManager.download_and_install\n",
    "ChromeDriverManager.get_latest_version\n",
    "driver = webdriver.Chrome(r\"C:\\Users\\TF2020\\AppData\\Local\\rasjani\\WebDriverManager\\bin\\chromedriver.exe\")"
   ]
  },
  {
   "cell_type": "code",
   "execution_count": 42,
   "metadata": {},
   "outputs": [],
   "source": [
    "#make sure we know what date we need\n",
    "all_dates = pd.date_range('2019-09-01','2021-09-01',freq='d')\n",
    "\n",
    "def get_url(search):\n",
    "    url_temp = 'https://www.wunderground.com/history/daily/KMDW/date/{}'\n",
    "    url = url_temp.format(search)\n",
    "    return url\n",
    "\n",
    "records = []\n",
    "missing_date = []\n",
    "for day in all_dates :\n",
    "    url = get_url(day)\n",
    "    driver.get(url)\n",
    "\n",
    "    time.sleep(1)\n",
    "\n",
    "    soup = BeautifulSoup(driver.page_source, 'html.parser')\n",
    "    try:\n",
    "        result_parent = soup.find('table', {'aria-labelledby':'History observation'})\n",
    "\n",
    "        results = result_parent.find('tbody')\n",
    "        for row in results.find_all('tr'):\n",
    "            time_hr = row.find('span',{'class':'ng-star-inserted'}).text\n",
    "\n",
    "            record_parent = row.find_all('span',{'class':'wu-value wu-value-to'})\n",
    "            temperature = record_parent[0].text\n",
    "            humidity = record_parent[2].text\n",
    "            wind_speed = record_parent[3].text\n",
    "            precip = record_parent[-1].text\n",
    "            condition = row.find_all('span',{'class':'ng-star-inserted'})[-1].text\n",
    "            \n",
    "            record = (time_hr, temperature, humidity, wind_speed, precip, condition, day)\n",
    "\n",
    "            records.append(record)\n",
    "\n",
    "    except: \n",
    "        missing_date.append(day)\n",
    "\n",
    "\n",
    "\n",
    "#Put all the scraping parts together\n",
    "weather_data = pd.DataFrame(records, columns= ['time','temperature','humidity','wind_speed','precipation','condition','date'])\n",
    "\n",
    "weather_data.to_csv('weather_raw.csv')\n",
    "    "
   ]
  },
  {
   "cell_type": "code",
   "execution_count": 66,
   "metadata": {},
   "outputs": [
    {
     "name": "stderr",
     "output_type": "stream",
     "text": [
      "C:\\Users\\TF2020\\AppData\\Local\\Temp/ipykernel_648/2894279829.py:22: SettingWithCopyWarning: \n",
      "A value is trying to be set on a copy of a slice from a DataFrame\n",
      "\n",
      "See the caveats in the documentation: https://pandas.pydata.org/pandas-docs/stable/user_guide/indexing.html#returning-a-view-versus-a-copy\n",
      "  weather_data.date[i] -= timedelta(days=1)\n"
     ]
    }
   ],
   "source": [
    "#There are some extra records in the same hour, we are only going to keep one\n",
    "weather_data = pd.read_csv('weather_raw.csv', index_col= 0)\n",
    "weather_data['date'] = pd.to_datetime(weather_data['date'])\n",
    "weather_data['time'] = pd.to_datetime(weather_data['time'])\n",
    "weather_data['time'] = weather_data['time'].dt.hour\n",
    "\n",
    "\n",
    "#Find the duplicate that is next to each other.\n",
    "time_temp = weather_data.time\n",
    "dup_list = []\n",
    "for i in range(len(time_temp)) : \n",
    "    if (i == 0) or i == len(time_temp) or time_temp[i] != time_temp[i-1]: \n",
    "        dup_list.append(i)\n",
    "\n",
    "weather_data = weather_data.iloc[dup_list,:]\n",
    "weather_data = weather_data.reset_index(drop= True)\n",
    "\n",
    "#The original website put some previous day data into the next day, and all of these are happened on 10 to 11PM\n",
    "time_temp = weather_data.time\n",
    "for i in range(len(time_temp)-1):\n",
    "    if (time_temp[i] == 23 or time_temp[i] == 22) & (time_temp[i+1] == 0 or time_temp[i+1] == 1) & (weather_data.date[i+1] == weather_data.date[i]):\n",
    "        weather_data.date[i] -= timedelta(days=1)\n",
    "\n",
    "weather_data.to_csv('weather_clean.csv')"
   ]
  },
  {
   "cell_type": "markdown",
   "metadata": {},
   "source": [
    "### Skip it if you already have Divvy_weather_data.csv"
   ]
  },
  {
   "cell_type": "code",
   "execution_count": 75,
   "metadata": {},
   "outputs": [],
   "source": [
    "weather_data = pd.read_csv('weather_clean.csv', index_col= 0)\n",
    "weather_data['date'] = pd.to_datetime(weather_data['date'])\n",
    "weather_data = weather_data.reset_index(drop= True)"
   ]
  },
  {
   "cell_type": "code",
   "execution_count": 76,
   "metadata": {},
   "outputs": [],
   "source": [
    "df_beach_weather = pd.read_csv('Beach_Weather_Stations.csv')\n",
    "\n",
    "#celsius to fahrenheit\n",
    "df_beach_weather['Air Temperature'] = df_beach_weather['Air Temperature'] * 9/5 + 32\n",
    "#mm to inch\n",
    "df_beach_weather['Interval Rain'] = df_beach_weather['Interval Rain']/25.4\n",
    "#meter per hour to mph 2.237\n",
    "df_beach_weather['Wind Speed'] = df_beach_weather['Wind Speed']*2.237"
   ]
  },
  {
   "cell_type": "code",
   "execution_count": 77,
   "metadata": {},
   "outputs": [],
   "source": [
    "#transform some date time into date and hour\n",
    "df_beach_weather['Measurement Timestamp'] = pd.to_datetime(df_beach_weather['Measurement Timestamp'])\n",
    "df_beach_weather['hr'] = df_beach_weather['Measurement Timestamp'].dt.hour\n",
    "df_beach_weather['Date'] = pd.to_datetime(df_beach_weather['Measurement Timestamp'].dt.date)\n"
   ]
  },
  {
   "cell_type": "code",
   "execution_count": 78,
   "metadata": {},
   "outputs": [
    {
     "name": "stdout",
     "output_type": "stream",
     "text": [
      "[Timestamp('2020-11-08 00:00:00', freq='D')]\n"
     ]
    }
   ],
   "source": [
    "#Get the record from the missing date(which happened during data sraping process)\n",
    "print(missing_date)\n",
    "\n",
    "Target_date = missing_date[0]\n",
    "record_2020_11_08 = df_beach_weather.loc[(df_beach_weather['Station Name'] == 'Oak Street Weather Station') & (df_beach_weather['Date'] == Target_date),['hr','Air Temperature','Humidity','Wind Speed','Interval Rain', 'Precipitation Type','Date']]\n",
    "record_2020_11_08 = record_2020_11_08.sort_values(by = ['hr'])\n",
    "record_2020_11_08= record_2020_11_08.reset_index(drop= True) \n",
    "#No precipitation, the weather is consider fair that day\n",
    "record_2020_11_08['Precipitation Type'] = 'Fair'\n",
    "record_2020_11_08.columns = weather_data.columns"
   ]
  },
  {
   "cell_type": "code",
   "execution_count": 120,
   "metadata": {},
   "outputs": [],
   "source": [
    "#prepare a backaup weather dataset\n",
    "all_dates = pd.date_range('2019-09-01','2021-09-1',freq='d')\n",
    "record_oak_street = df_beach_weather.loc[(df_beach_weather['Station Name'] == 'Oak Street Weather Station') & (df_beach_weather['Date'].isin(all_dates)),['hr','Air Temperature','Humidity','Wind Speed','Interval Rain', 'Precipitation Type','Date']]\n",
    "record_oak_street = record_oak_street.sort_values(by = ['Date','hr'])\n",
    "record_oak_street= record_oak_street.reset_index(drop= True) \n",
    "record_oak_street = record_oak_street.rename(columns={\n",
    "                                        'Date':'date',\n",
    "                                        'hr':'time'})"
   ]
  },
  {
   "cell_type": "code",
   "execution_count": 181,
   "metadata": {},
   "outputs": [],
   "source": [
    "#Combine the missing date data we found out during the scraping process\n",
    "Divvy_weather_data = pd.concat([weather_data,record_2020_11_08],axis=0).reset_index(drop= True)\n",
    "\n",
    "#After concat we still have some missing time data using\n",
    "temp = full_date[['date','time']].merge(Divvy_weather_data, how='left') \n",
    "missing_time = temp[temp.temperature.isnull()][['date','time']]\n",
    "missing_time = missing_time.merge(record_oak_street, how='left') #using left look up to fill out the missing value\n",
    "missing_time['Precipitation Type'] = np.NaN\n",
    "missing_time = missing_time.fillna('missing')\n",
    "missing_time = missing_time[['time','Air Temperature','Humidity','Wind Speed','Interval Rain', 'Precipitation Type','date']]\n",
    "missing_time.columns = weather_data.columns\n",
    "\n",
    "#Combine the record again\n",
    "Divvy_weather_data = pd.concat([Divvy_weather_data,missing_time],axis=0).reset_index(drop= True)\n",
    "Divvy_weather_data = Divvy_weather_data.sort_values(by = ['date','time'],ignore_index = True)\n",
    "\n",
    "#We might still have some time that is off the record from both weather station and the website\n",
    "for i in range(len(Divvy_weather_data)):\n",
    "    if Divvy_weather_data.condition[i] == 'missing':\n",
    "        try: #using their nearest record \n",
    "            Divvy_weather_data.loc[i,'temperature'] = Divvy_weather_data.temperature[i+1]\n",
    "            Divvy_weather_data.loc[i,'humidity'] = Divvy_weather_data.humidity[i+1]\n",
    "            Divvy_weather_data.loc[i,'wind_speed'] = Divvy_weather_data.wind_speed[i+1]\n",
    "            Divvy_weather_data.loc[i,'precipation'] = Divvy_weather_data.precipation[i +1]\n",
    "            Divvy_weather_data.loc[i,'condition'] = Divvy_weather_data.condition[i + 1]\n",
    "            if Divvy_weather_data.condition[i + 1] == 'missing':\n",
    "                Divvy_weather_data.loc[i,'temperature'] = Divvy_weather_data.temperature[i-1]\n",
    "                Divvy_weather_data.loc[i,'humidity'] = Divvy_weather_data.humidity[i-1]\n",
    "                Divvy_weather_data.loc[i,'wind_speed'] = Divvy_weather_data.wind_speed[i-1]\n",
    "                Divvy_weather_data.loc[i,'precipation'] = Divvy_weather_data.precipation[i-1]\n",
    "                Divvy_weather_data.loc[i,'condition'] = Divvy_weather_data.condition[i-1]\n",
    "\n",
    "        except:\n",
    "            Divvy_weather_data.loc[i,'temperature'] = Divvy_weather_data.temperature[i+3]\n",
    "            Divvy_weather_data.loc[i,'humidity'] = Divvy_weather_data.humidity[i+3]\n",
    "            Divvy_weather_data.loc[i,'wind_speed'] = Divvy_weather_data.wind_speed[i+3]\n",
    "            Divvy_weather_data.loc[i,'precipation'] = Divvy_weather_data.precipation[i+3]\n",
    "            Divvy_weather_data.loc[i,'condition'] = Divvy_weather_data.condition[i+3]"
   ]
  },
  {
   "cell_type": "code",
   "execution_count": 182,
   "metadata": {},
   "outputs": [],
   "source": [
    "#We are going to remove windy from the condition sicne the wind speed can tell the differnece\n",
    "Divvy_weather_data['condition'] = Divvy_weather_data['condition'].str.split(' / ', expand= True)[0]\n",
    "Divvy_weather_data['condition'] = Divvy_weather_data['condition'].str.replace('Light ', '')\n",
    "Divvy_weather_data['condition'] = Divvy_weather_data['condition'].str.replace('Freezing ', '')\n",
    "Divvy_weather_data['condition'] = Divvy_weather_data['condition'].str.replace(' ', '_')\n",
    "Divvy_weather_data.to_csv('Divvy_weather_data.csv')"
   ]
  },
  {
   "cell_type": "markdown",
   "metadata": {},
   "source": [
    "## Machine Learning (Time Series Forecasting)"
   ]
  },
  {
   "cell_type": "code",
   "execution_count": 12,
   "metadata": {},
   "outputs": [],
   "source": [
    "#we need import holiday package so it can label whether that day is holiday for us\n",
    "import holidays\n",
    "\n",
    "US_holiday = holidays.UnitedStates()\n",
    "total_data.date[0] in US_holiday\n",
    "total_data['holiday'] = pd.Series(total_data.date).apply(lambda x : x in US_holiday)\n",
    "total_data['holiday_detail'] = pd.Series(total_data.date).apply(lambda x : US_holiday.get(x))"
   ]
  },
  {
   "cell_type": "code",
   "execution_count": 13,
   "metadata": {},
   "outputs": [],
   "source": [
    "#combine both weather data and station record\n",
    "Divvy_weather_data = pd.read_csv('Divvy_weather_data.csv', index_col= 0)\n",
    "Divvy_weather_data['date'] = pd.to_datetime(Divvy_weather_data['date'])\n",
    "total_data_weather = total_data.merge(Divvy_weather_data, left_on=['time','date'], right_on=['time','date'])\n",
    "\n",
    "#get time ready for the machine learning\n",
    "total_data_weather['date'] +=  pd.to_timedelta(total_data_weather['time'], unit='h') \n",
    "total_data_weather = total_data_weather.drop(columns = ['time'])\n",
    "\n"
   ]
  },
  {
   "cell_type": "code",
   "execution_count": 18,
   "metadata": {},
   "outputs": [],
   "source": [
    "import tensorflow as tf"
   ]
  },
  {
   "cell_type": "code",
   "execution_count": 27,
   "metadata": {},
   "outputs": [],
   "source": [
    "test_data = total_data_weather[total_data_weather['date']>'2021-08-24'].reset_index(drop= True)\n",
    "train_data = total_data_weather[total_data_weather['date']<='2021-08-24'].reset_index(drop= True)"
   ]
  },
  {
   "cell_type": "code",
   "execution_count": null,
   "metadata": {},
   "outputs": [],
   "source": []
  }
 ],
 "metadata": {
  "interpreter": {
   "hash": "2e62f6ad7896f434c64a9beb4b06389abcc29bb2ba2f8a91e1cd9584e65bd7fd"
  },
  "kernelspec": {
   "display_name": "Python 3.9.7 64-bit ('base': conda)",
   "language": "python",
   "name": "python3"
  },
  "language_info": {
   "codemirror_mode": {
    "name": "ipython",
    "version": 3
   },
   "file_extension": ".py",
   "mimetype": "text/x-python",
   "name": "python",
   "nbconvert_exporter": "python",
   "pygments_lexer": "ipython3",
   "version": "3.9.7"
  },
  "orig_nbformat": 4
 },
 "nbformat": 4,
 "nbformat_minor": 2
}
