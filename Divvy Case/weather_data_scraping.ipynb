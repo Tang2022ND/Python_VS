{
 "cells": [
  {
   "cell_type": "code",
   "execution_count": 109,
   "metadata": {},
   "outputs": [],
   "source": [
    "import pandas as pd\n",
    "import numpy as np\n",
    "import requests\n",
    "import time\n",
    "\n",
    "from bs4 import BeautifulSoup\n",
    "from selenium import webdriver\n",
    "from webdrivermanager.chrome import ChromeDriverManager\n",
    "\n",
    "ChromeDriverManager.download_and_install\n",
    "ChromeDriverManager.get_latest_version\n",
    "driver = webdriver.Chrome(r\"C:\\Users\\TF2020\\AppData\\Local\\rasjani\\WebDriverManager\\bin\\chromedriver.exe\")"
   ]
  },
  {
   "cell_type": "markdown",
   "metadata": {},
   "source": [
    "## Scraping the weather data for the Divvy Bike time series forecasting"
   ]
  },
  {
   "cell_type": "code",
   "execution_count": 49,
   "metadata": {},
   "outputs": [],
   "source": [
    "all_dates = pd.date_range('2019-09-01','2021-09-1',freq='d').date\n",
    "def get_url(search):\n",
    "    url_temp = 'https://www.wunderground.com/dashboard/pws/KILCHICA679/table/{}/{}/daily'\n",
    "    url = url_temp.format(search, search)\n",
    "    return url"
   ]
  },
  {
   "cell_type": "code",
   "execution_count": 50,
   "metadata": {},
   "outputs": [],
   "source": [
    "records = []\n",
    "missing_date = []\n",
    "for day in all_dates :\n",
    "    url = get_url(day)\n",
    "    driver.get(url) #can switch to requests in order speed up the process\n",
    "\n",
    "\n",
    "\n",
    "    soup = BeautifulSoup(driver.page_source, 'html.parser')\n",
    "    try:\n",
    "        result_parent = soup.find('table', {'class':'history-table desktop-table'})\n",
    "        results = result_parent.find('tbody')\n",
    "        \n",
    "        for row in results.find_all('tr'):\n",
    "            time_hr = row.find_all('strong',{'_ngcontent-app-root-c152':''})[0].text\n",
    "            time_hr = pd.to_datetime(time_hr).hour\n",
    "\n",
    "\n",
    "            record_parent = row.find_all('span',{'class':'wu-value wu-value-to'})\n",
    "            temperature = float(record_parent[0].text)\n",
    "            humidity = float(record_parent[2].text)\n",
    "            wind_speed = float(record_parent[3].text)\n",
    "            precip = float(record_parent[-2].text)\n",
    "\n",
    "            uv = int(row.find_all('strong',{'_ngcontent-app-root-c152':''})[-2].text)\n",
    "            date = pd.to_datetime(day)\n",
    "\n",
    "\n",
    "            record = (time_hr, temperature, humidity, wind_speed, precip, uv, date)\n",
    "            records.append(record)\n",
    "\n",
    "            \n",
    "\n",
    "    except: \n",
    "        missing_date.append(day)"
   ]
  },
  {
   "cell_type": "code",
   "execution_count": 51,
   "metadata": {},
   "outputs": [],
   "source": [
    "weather_data_raw = pd.DataFrame(records, columns= ['time', 'temperature', 'humidity', 'wind_speed', 'precipation', 'uv', 'date']) #save the data to dataframe\n",
    "weather_data = weather_data_raw.groupby(['date', 'time'], axis= 0).mean().reset_index(drop= False).round(decimals = 2) #using the mean so we can have the more percise weather data"
   ]
  },
  {
   "cell_type": "code",
   "execution_count": 71,
   "metadata": {},
   "outputs": [],
   "source": [
    "full_date = pd.DataFrame(pd.date_range('2019-09-01','2021-09-1',freq='h'), columns= ['time']).iloc[:-1,:]\n",
    "\n",
    "full_date['date'] = pd.to_datetime(full_date['time'].dt.date)\n",
    "full_date['time'] = full_date['time'].dt.hour\n",
    "full_date['day_of_week'] = full_date['date'].dt.strftime('%A')\n",
    "\n",
    "\n",
    "temp = full_date[['date','time']].merge(weather_data, how='left') \n",
    "missing_temp = temp[temp.temperature.isnull()][['date','time']]\n",
    "missing_time = pd.to_datetime(np.unique(missing_temp.date)).date\n",
    "#the weather sensor will have some missing point, need to try other weather sensor"
   ]
  },
  {
   "cell_type": "code",
   "execution_count": null,
   "metadata": {},
   "outputs": [],
   "source": [
    "def get_url_backup(search):\n",
    "    url_temp = 'https://www.wunderground.com/dashboard/pws/KILCHICA594/table/{}/{}/daily'\n",
    "    url = url_temp.format(search, search)\n",
    "    return url\n",
    "\n",
    "records = []\n",
    "missing_date = []\n",
    "\n",
    "for day in missing_time :\n",
    "    \n",
    "    url = get_url_backup(day)\n",
    "    page_data = requests.get(url).text\n",
    "\n",
    "\n",
    "\n",
    "    soup = BeautifulSoup(page_data, 'html.parser')\n",
    "    try:\n",
    "        result_parent = soup.find('table', {'class':'history-table desktop-table'})\n",
    "        results = result_parent.find('tbody')\n",
    "        \n",
    "        for row in results.find_all('tr'):\n",
    "            time_hr = row.find_all('strong',{'_ngcontent-app-root-c152':''})[0].text\n",
    "            time_hr = pd.to_datetime(time_hr).hour\n",
    "\n",
    "\n",
    "            record_parent = row.find_all('span',{'class':'wu-value wu-value-to'})\n",
    "            temperature = float(record_parent[0].text)\n",
    "            humidity = float(record_parent[2].text)\n",
    "            wind_speed = float(record_parent[3].text)\n",
    "            precip = float(record_parent[-2].text)\n",
    "\n",
    "            uv = int(row.find_all('strong',{'_ngcontent-app-root-c152':''})[-2].text)\n",
    "            date = pd.to_datetime(day)\n",
    "\n",
    "\n",
    "            record = (time_hr, temperature, humidity, wind_speed, precip, uv, date)\n",
    "            records.append(record)\n",
    "\n",
    "            \n",
    "\n",
    "    except: \n",
    "        missing_date.append(day)"
   ]
  },
  {
   "cell_type": "code",
   "execution_count": 65,
   "metadata": {},
   "outputs": [],
   "source": [
    "missing_data = pd.DataFrame(records, columns= ['time', 'temperature', 'humidity', 'wind_speed', 'precipation', 'uv', 'date'])\n",
    "missing_data = missing_data.groupby(['date', 'time'], axis= 0).mean().reset_index(drop= False).round(decimals = 2)"
   ]
  },
  {
   "cell_type": "code",
   "execution_count": 100,
   "metadata": {},
   "outputs": [
    {
     "data": {
      "text/plain": [
       "353"
      ]
     },
     "execution_count": 100,
     "metadata": {},
     "output_type": "execute_result"
    }
   ],
   "source": [
    "temp = missing_temp[['date','time']].merge(missing_data, how='left')\n",
    "\n",
    "lost_data = temp[temp.temperature.isnull()][['date','time']]\n",
    "lost_date = pd.to_datetime(np.unique(lost_data.date)).date\n",
    "len(lost_data) #353 is still too much, finally, for some date, there might be issue of system shut down due to the maintanence."
   ]
  },
  {
   "cell_type": "code",
   "execution_count": 130,
   "metadata": {},
   "outputs": [],
   "source": [
    "def get_url(search):\n",
    "    url_temp = 'https://www.wunderground.com/history/daily/KMDW/date/{}' #final choice, use it only when neceessary, hard to clean\n",
    "    url = url_temp.format(search)\n",
    "    return url\n",
    "\n",
    "records = []\n",
    "missing_date = []\n",
    "for day in lost_date :\n",
    "    url = get_url(day)\n",
    "    driver.get(url)\n",
    "    time.sleep(2)\n",
    "\n",
    "\n",
    "    soup = BeautifulSoup(driver.page_source, 'html.parser')\n",
    "    try:\n",
    "        result_parent = soup.find('table', {'aria-labelledby':'History observation'})\n",
    "\n",
    "        results = result_parent.find('tbody')\n",
    "        for row in results.find_all('tr'):\n",
    "            time_hr = row.find('span',{'class':'ng-star-inserted'}).text\n",
    "            time_hr = pd.to_datetime(time_hr).hour\n",
    "\n",
    "            record_parent = row.find_all('span',{'class':'wu-value wu-value-to'})\n",
    "            temperature = float(record_parent[0].text)\n",
    "            humidity = float(record_parent[2].text)\n",
    "            wind_speed = float(record_parent[3].text)\n",
    "            precip = float(record_parent[-1].text)\n",
    "            date = pd.to_datetime(day)\n",
    "            record = (time_hr, temperature, humidity, wind_speed, precip, date)\n",
    "\n",
    "            records.append(record)\n",
    "\n",
    "    except: \n",
    "        missing_date.append(day)\n",
    "        print(day)"
   ]
  },
  {
   "cell_type": "code",
   "execution_count": 135,
   "metadata": {},
   "outputs": [],
   "source": [
    "missing_data_2 = pd.DataFrame(records, columns= ['time', 'temperature', 'humidity', 'wind_speed', 'precipation', 'date'])\n",
    "missing_data_2 = missing_data_2.groupby(['date', 'time'], axis= 0).mean().reset_index(drop= False).round(decimals = 2)\n"
   ]
  },
  {
   "cell_type": "code",
   "execution_count": 136,
   "metadata": {},
   "outputs": [],
   "source": [
    "#in missing data 2, 11pm are the previous night data, so we need to remove it!\n",
    "missing_data_2 = missing_data_2[missing_data_2.time != 23]\n",
    "temp = lost_data[['date','time']].merge(missing_data_2, how='left')\n",
    "lost_data_2 = temp[temp.temperature.isnull()][['date','time']]"
   ]
  },
  {
   "cell_type": "code",
   "execution_count": 138,
   "metadata": {},
   "outputs": [],
   "source": [
    "merge_df = full_date[['date','time']].merge(weather_data, how='left') \n",
    "merge_df_missing = merge_df[merge_df.temperature.isnull()][['date','time']]\n",
    "merge_df = merge_df[merge_df.temperature.isnull()==False]\n",
    "\n",
    "merge_df2 = merge_df_missing.merge(missing_data, how='left')\n",
    "merge_df2_missing = merge_df2[merge_df2.temperature.isnull()][['date','time']]\n",
    "merge_df2 = merge_df2[merge_df2.temperature.isnull()==False]\n",
    "\n",
    "merge_df3 = merge_df2_missing.merge(missing_data_2, how='left')\n",
    "#combine all the data together!"
   ]
  },
  {
   "cell_type": "code",
   "execution_count": 159,
   "metadata": {},
   "outputs": [],
   "source": [
    "weather_data_concat = pd.concat([merge_df,merge_df2,merge_df3]).sort_values(by = ['date','time'], ignore_index= True)\n",
    "#weather_data_concat = weather_data_concat.fillna('missing')"
   ]
  },
  {
   "cell_type": "code",
   "execution_count": 160,
   "metadata": {},
   "outputs": [],
   "source": [
    "for i in range(len(weather_data_concat)):\n",
    "    if pd.isna(weather_data_concat.temperature[i]) == True:\n",
    "        try: #using their nearest record \n",
    "            \n",
    "            weather_data_concat.iloc[i,2:] = weather_data_concat.iloc[i+1,2:]\n",
    "\n",
    "            if pd.isna(weather_data_concat.temperature[i+1]) == True:\n",
    "\n",
    "                weather_data_concat.iloc[i,2:] = weather_data_concat.iloc[i+2,2:]\n",
    "        except:\n",
    "            weather_data_concat.iloc[i,2:] = weather_data_concat.iloc[i-1,2:]\n",
    "\n",
    "#for the rest of few missing data, we are using the nearby weather record"
   ]
  },
  {
   "cell_type": "code",
   "execution_count": 167,
   "metadata": {},
   "outputs": [],
   "source": [
    "from sklearn.experimental import enable_iterative_imputer\n",
    "from sklearn.impute import IterativeImputer\n",
    "import seaborn as sns"
   ]
  },
  {
   "cell_type": "code",
   "execution_count": 175,
   "metadata": {},
   "outputs": [
    {
     "data": {
      "text/plain": [
       "<AxesSubplot:xlabel='time', ylabel='uv'>"
      ]
     },
     "execution_count": 175,
     "metadata": {},
     "output_type": "execute_result"
    },
    {
     "data": {
      "image/png": "[encoded data removed]",
      "text/plain": [
       "<Figure size 432x288 with 1 Axes>"
      ]
     },
     "metadata": {
      "needs_background": "light"
     },
     "output_type": "display_data"
    }
   ],
   "source": [
    "sns.scatterplot(data= weather_data_concat, x = 'time', y='uv', hue='temperature')\n",
    "#we still have some uv data are missing, but we could use imputer to fit the missing value\n",
    "#their is a strong relationship between time and the uv level, the imputer will give us a relativly accurate result"
   ]
  },
  {
   "cell_type": "code",
   "execution_count": 185,
   "metadata": {},
   "outputs": [],
   "source": [
    "imp_mean = IterativeImputer(random_state=0)\n",
    "imp_mean.fit(weather_data_concat.iloc[:,1:])\n",
    "\n",
    "complete_data = imp_mean.transform(weather_data_concat.iloc[:,1:])\n",
    "#IterativeImputer work like a regression model"
   ]
  },
  {
   "cell_type": "code",
   "execution_count": 194,
   "metadata": {},
   "outputs": [],
   "source": [
    "uv_list = round(pd.DataFrame(complete_data)[5],ndigits=2)\n",
    "weather_data_concat['uv']=uv_list\n",
    "#replace the uv value with imputed value"
   ]
  },
  {
   "cell_type": "code",
   "execution_count": 196,
   "metadata": {},
   "outputs": [],
   "source": [
    "weather_data_concat.to_csv('weather_data.csv', index_label= False) # save the file"
   ]
  }
 ],
 "metadata": {
  "interpreter": {
   "hash": "2e62f6ad7896f434c64a9beb4b06389abcc29bb2ba2f8a91e1cd9584e65bd7fd"
  },
  "kernelspec": {
   "display_name": "Python 3.9.7 64-bit ('base': conda)",
   "language": "python",
   "name": "python3"
  },
  "language_info": {
   "codemirror_mode": {
    "name": "ipython",
    "version": 3
   },
   "file_extension": ".py",
   "mimetype": "text/x-python",
   "name": "python",
   "nbconvert_exporter": "python",
   "pygments_lexer": "ipython3",
   "version": "3.9.7"
  },
  "orig_nbformat": 4
 },
 "nbformat": 4,
 "nbformat_minor": 2
}
