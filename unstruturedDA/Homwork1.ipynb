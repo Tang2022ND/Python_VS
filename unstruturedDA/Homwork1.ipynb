{
 "cells": [
  {
   "cell_type": "markdown",
   "metadata": {},
   "source": [
    "## Homework 1"
   ]
  },
  {
   "cell_type": "code",
   "execution_count": 46,
   "metadata": {},
   "outputs": [],
   "source": [
    "#setup the enviroment\n",
    "import zipfile\n",
    "import glob\n",
    "import pandas as pd"
   ]
  },
  {
   "cell_type": "markdown",
   "metadata": {},
   "source": [
    "### Step 1"
   ]
  },
  {
   "cell_type": "code",
   "execution_count": 47,
   "metadata": {},
   "outputs": [],
   "source": [
    "zipper = zipfile.ZipFile('data/wweCalls.zip')\n",
    "zipper.extractall('data')"
   ]
  },
  {
   "cell_type": "code",
   "execution_count": 48,
   "metadata": {},
   "outputs": [],
   "source": [
    "wwe_file_names = glob.glob('data/wwe_parsed*')#we only need file that start with ww_parsed"
   ]
  },
  {
   "cell_type": "code",
   "execution_count": 52,
   "metadata": {},
   "outputs": [],
   "source": [
    "df_wwe = pd.DataFrame()\n",
    "for i, file in enumerate(wwe_file_names):\n",
    "    df_wwe_single = pd.read_csv(file)\n",
    "    df_wwe = df_wwe.append(df_wwe_single)\n",
    "\n",
    "df_wwe['date'] = pd.to_datetime(df_wwe['date']).dt.date"
   ]
  },
  {
   "cell_type": "code",
   "execution_count": 44,
   "metadata": {},
   "outputs": [
    {
     "data": {
      "text/plain": [
       "2239"
      ]
     },
     "execution_count": 44,
     "metadata": {},
     "output_type": "execute_result"
    }
   ],
   "source": [
    "len(df_wwe) #good to go"
   ]
  },
  {
   "cell_type": "markdown",
   "metadata": {},
   "source": [
    "### Step 2"
   ]
  },
  {
   "cell_type": "code",
   "execution_count": 6,
   "metadata": {},
   "outputs": [],
   "source": [
    "import requests\n",
    "import datetime"
   ]
  },
  {
   "cell_type": "code",
   "execution_count": 7,
   "metadata": {},
   "outputs": [],
   "source": [
    "def get_url(ticker, api, csv): #we are using API forget about the csv!\n",
    "    if csv == True:\n",
    "        url = 'https://www.alphavantage.co/query?function=TIME_SERIES_DAILY&symbol={}&outputsize=full&apikey={}&datatype=csv'.format(ticker, api)\n",
    "    else: \n",
    "        url = 'https://www.alphavantage.co/query?function=TIME_SERIES_DAILY&symbol={}&outputsize=full&apikey={}'.format(ticker, api)\n",
    "    return url\n",
    "\n",
    "#I need to change the outputsize to full, they intraday search will shows other date's data, and the time_series_daily don't support date search"
   ]
  },
  {
   "cell_type": "code",
   "execution_count": 58,
   "metadata": {},
   "outputs": [],
   "source": [
    "#creating a function that will make our date pulling process more flexible\n",
    "def pull_dates(target_date, up_range, down_range):\n",
    "    start_date = pd.to_datetime(target_date).date() - datetime.timedelta(days = down_range)\n",
    "    end_date = pd.to_datetime(target_date).date() + datetime.timedelta(days = up_range)\n",
    "    \n",
    "    dates = pd.date_range(start_date, end_date, freq= 'd').date\n",
    "    return dates"
   ]
  },
  {
   "cell_type": "code",
   "execution_count": 59,
   "metadata": {},
   "outputs": [],
   "source": [
    "#combining previous function together\n",
    "def get_stock_stats(date_list, ticker, api, csv, up_range, down_range):\n",
    "\n",
    "    dates = []\n",
    "    for target_date in date_list:\n",
    "        dates_temp = pull_dates(target_date= target_date, up_range= up_range, down_range= down_range)\n",
    "        dates.extend(dates_temp)\n",
    "    \n",
    "    dates = pd.unique(dates)\n",
    "\n",
    "\n",
    "    url = get_url(ticker, api, csv )\n",
    "    \n",
    "    records = []\n",
    "    market_close_dates = [] \n",
    "\n",
    "    if csv == True: #for csv\n",
    "        results = pd.read_csv(url) #like AWS S3, using pd.read_csv can call the file\n",
    "        results['timestamp'] = pd.to_datetime(results['timestamp']).dt.date \n",
    "\n",
    "        records = results[results.timestamp.isin(dates)]\n",
    "        date_temp = dates[pd.Series(dates).isin(records.timestamp) == False]\n",
    "        records = records.reset_index(drop= True)\n",
    "        records.columns = ['date', 'open', 'high', 'low', 'close', 'volume']\n",
    "\n",
    "        for date in date_temp:\n",
    "            market_close_dates.append(str(date))\n",
    "    \n",
    "    else: #for json file\n",
    "        results = requests.get(url).json()['Time Series (Daily)'] #call the file from json\n",
    "\n",
    "        for date in dates:\n",
    "            try:\n",
    "                date = str(date)\n",
    "                result = results[date]\n",
    "                open = result['1. open']\n",
    "                high = result['2. high']\n",
    "                low = result['3. low']\n",
    "                close = result['4. close']\n",
    "                volume = result['5. volume']\n",
    "\n",
    "                record = (date, open, high, low, close, volume)\n",
    "                records.append(record)\n",
    "            \n",
    "            except:\n",
    "                market_close_dates.append(date)\n",
    "\n",
    "    return(records, market_close_dates)\n",
    "\n"
   ]
  },
  {
   "cell_type": "code",
   "execution_count": 61,
   "metadata": {},
   "outputs": [],
   "source": [
    "date_list = pd.unique(df_wwe.date)\n",
    "ticker = 'WWE' \n",
    "API_key = 'M543IPRN9W3SOBPZ'\n",
    "\n",
    "\n",
    "records,close_dates =  get_stock_stats(date_list = date_list, \n",
    "                        ticker = ticker, \n",
    "                        api= API_key, \n",
    "                        csv= True, #csv form will return dataframe, json form will be np.array\n",
    "                        up_range= 5, \n",
    "                        down_range= 5)\n",
    "\n",
    "#the result will return the valid record, and the date that market is close"
   ]
  },
  {
   "cell_type": "code",
   "execution_count": 64,
   "metadata": {},
   "outputs": [
    {
     "data": {
      "text/html": [
       "<div>\n",
       "<style scoped>\n",
       "    .dataframe tbody tr th:only-of-type {\n",
       "        vertical-align: middle;\n",
       "    }\n",
       "\n",
       "    .dataframe tbody tr th {\n",
       "        vertical-align: top;\n",
       "    }\n",
       "\n",
       "    .dataframe thead th {\n",
       "        text-align: right;\n",
       "    }\n",
       "</style>\n",
       "<table border=\"1\" class=\"dataframe\">\n",
       "  <thead>\n",
       "    <tr style=\"text-align: right;\">\n",
       "      <th></th>\n",
       "      <th>date</th>\n",
       "      <th>open</th>\n",
       "      <th>high</th>\n",
       "      <th>low</th>\n",
       "      <th>close</th>\n",
       "      <th>volume</th>\n",
       "    </tr>\n",
       "  </thead>\n",
       "  <tbody>\n",
       "    <tr>\n",
       "      <th>0</th>\n",
       "      <td>2010-12-03</td>\n",
       "      <td>13.93</td>\n",
       "      <td>14.04</td>\n",
       "      <td>13.90</td>\n",
       "      <td>14.00</td>\n",
       "      <td>350400</td>\n",
       "    </tr>\n",
       "    <tr>\n",
       "      <th>1</th>\n",
       "      <td>2010-12-02</td>\n",
       "      <td>13.95</td>\n",
       "      <td>14.05</td>\n",
       "      <td>13.93</td>\n",
       "      <td>14.00</td>\n",
       "      <td>236200</td>\n",
       "    </tr>\n",
       "    <tr>\n",
       "      <th>2</th>\n",
       "      <td>2010-12-01</td>\n",
       "      <td>14.18</td>\n",
       "      <td>14.18</td>\n",
       "      <td>13.88</td>\n",
       "      <td>13.93</td>\n",
       "      <td>296800</td>\n",
       "    </tr>\n",
       "    <tr>\n",
       "      <th>3</th>\n",
       "      <td>2010-11-30</td>\n",
       "      <td>13.90</td>\n",
       "      <td>14.09</td>\n",
       "      <td>13.90</td>\n",
       "      <td>14.02</td>\n",
       "      <td>230300</td>\n",
       "    </tr>\n",
       "    <tr>\n",
       "      <th>4</th>\n",
       "      <td>2010-11-29</td>\n",
       "      <td>14.02</td>\n",
       "      <td>14.14</td>\n",
       "      <td>13.88</td>\n",
       "      <td>14.02</td>\n",
       "      <td>200400</td>\n",
       "    </tr>\n",
       "    <tr>\n",
       "      <th>...</th>\n",
       "      <td>...</td>\n",
       "      <td>...</td>\n",
       "      <td>...</td>\n",
       "      <td>...</td>\n",
       "      <td>...</td>\n",
       "      <td>...</td>\n",
       "    </tr>\n",
       "    <tr>\n",
       "      <th>220</th>\n",
       "      <td>2002-06-27</td>\n",
       "      <td>14.30</td>\n",
       "      <td>14.45</td>\n",
       "      <td>13.15</td>\n",
       "      <td>13.55</td>\n",
       "      <td>82200</td>\n",
       "    </tr>\n",
       "    <tr>\n",
       "      <th>221</th>\n",
       "      <td>2002-06-26</td>\n",
       "      <td>13.50</td>\n",
       "      <td>14.60</td>\n",
       "      <td>13.50</td>\n",
       "      <td>14.20</td>\n",
       "      <td>106100</td>\n",
       "    </tr>\n",
       "    <tr>\n",
       "      <th>222</th>\n",
       "      <td>2002-06-25</td>\n",
       "      <td>13.60</td>\n",
       "      <td>13.81</td>\n",
       "      <td>13.55</td>\n",
       "      <td>13.69</td>\n",
       "      <td>39600</td>\n",
       "    </tr>\n",
       "    <tr>\n",
       "      <th>223</th>\n",
       "      <td>2002-06-24</td>\n",
       "      <td>13.60</td>\n",
       "      <td>13.65</td>\n",
       "      <td>13.20</td>\n",
       "      <td>13.55</td>\n",
       "      <td>52100</td>\n",
       "    </tr>\n",
       "    <tr>\n",
       "      <th>224</th>\n",
       "      <td>2002-06-21</td>\n",
       "      <td>13.60</td>\n",
       "      <td>13.79</td>\n",
       "      <td>13.45</td>\n",
       "      <td>13.70</td>\n",
       "      <td>31100</td>\n",
       "    </tr>\n",
       "  </tbody>\n",
       "</table>\n",
       "<p>225 rows × 6 columns</p>\n",
       "</div>"
      ],
      "text/plain": [
       "           date   open   high    low  close  volume\n",
       "0    2010-12-03  13.93  14.04  13.90  14.00  350400\n",
       "1    2010-12-02  13.95  14.05  13.93  14.00  236200\n",
       "2    2010-12-01  14.18  14.18  13.88  13.93  296800\n",
       "3    2010-11-30  13.90  14.09  13.90  14.02  230300\n",
       "4    2010-11-29  14.02  14.14  13.88  14.02  200400\n",
       "..          ...    ...    ...    ...    ...     ...\n",
       "220  2002-06-27  14.30  14.45  13.15  13.55   82200\n",
       "221  2002-06-26  13.50  14.60  13.50  14.20  106100\n",
       "222  2002-06-25  13.60  13.81  13.55  13.69   39600\n",
       "223  2002-06-24  13.60  13.65  13.20  13.55   52100\n",
       "224  2002-06-21  13.60  13.79  13.45  13.70   31100\n",
       "\n",
       "[225 rows x 6 columns]"
      ]
     },
     "metadata": {},
     "output_type": "display_data"
    },
    {
     "data": {
      "text/plain": [
       "'Market was closing on these dates:'"
      ]
     },
     "metadata": {},
     "output_type": "display_data"
    },
    {
     "data": {
      "text/plain": [
       "['2010-02-06',\n",
       " '2010-02-07',\n",
       " '2010-02-13',\n",
       " '2010-02-14',\n",
       " '2010-02-15',\n",
       " '2008-02-09',\n",
       " '2008-02-10',\n",
       " '2008-02-16',\n",
       " '2008-02-17',\n",
       " '2007-02-10',\n",
       " '2007-02-11',\n",
       " '2007-02-17',\n",
       " '2007-02-18',\n",
       " '2006-06-10',\n",
       " '2006-06-11',\n",
       " '2006-06-17',\n",
       " '2006-06-18',\n",
       " '2003-11-15',\n",
       " '2003-11-16',\n",
       " '2003-11-22',\n",
       " '2004-02-14',\n",
       " '2004-02-15',\n",
       " '2004-02-16',\n",
       " '2004-02-21',\n",
       " '2004-02-22',\n",
       " '2009-03-14',\n",
       " '2009-03-15',\n",
       " '2009-03-21',\n",
       " '2009-03-22',\n",
       " '2005-11-26',\n",
       " '2005-11-27',\n",
       " '2005-12-03',\n",
       " '2005-12-04',\n",
       " '2007-10-27',\n",
       " '2007-10-28',\n",
       " '2007-11-03',\n",
       " '2007-11-04',\n",
       " '2004-06-19',\n",
       " '2004-06-20',\n",
       " '2004-06-26',\n",
       " '2004-06-27',\n",
       " '2004-08-21',\n",
       " '2004-08-22',\n",
       " '2004-08-28',\n",
       " '2005-02-19',\n",
       " '2005-02-20',\n",
       " '2005-02-21',\n",
       " '2005-02-26',\n",
       " '2005-02-27',\n",
       " '2004-11-20',\n",
       " '2004-11-21',\n",
       " '2004-11-25',\n",
       " '2004-11-27',\n",
       " '2004-11-28',\n",
       " '2009-02-21',\n",
       " '2009-02-22',\n",
       " '2009-02-28',\n",
       " '2009-03-01',\n",
       " '2003-08-23',\n",
       " '2003-08-24',\n",
       " '2003-08-30',\n",
       " '2003-08-31',\n",
       " '2002-06-22',\n",
       " '2002-06-23',\n",
       " '2002-06-29',\n",
       " '2002-06-30',\n",
       " '2007-07-28',\n",
       " '2007-07-29',\n",
       " '2007-08-04',\n",
       " '2007-08-05',\n",
       " '2006-02-25',\n",
       " '2006-02-26',\n",
       " '2006-03-04',\n",
       " '2006-03-05',\n",
       " '2005-06-25',\n",
       " '2005-06-26',\n",
       " '2005-07-02',\n",
       " '2005-07-03',\n",
       " '2005-07-04',\n",
       " '2010-11-25',\n",
       " '2010-11-27',\n",
       " '2010-11-28',\n",
       " '2010-12-04',\n",
       " '2010-12-05',\n",
       " '2006-08-26',\n",
       " '2006-08-27',\n",
       " '2006-09-02',\n",
       " '2006-09-03',\n",
       " '2006-09-04',\n",
       " '2007-04-28',\n",
       " '2007-04-29',\n",
       " '2007-05-05',\n",
       " '2007-05-06',\n",
       " '2010-10-30',\n",
       " '2010-10-31',\n",
       " '2010-11-06',\n",
       " '2010-11-07',\n",
       " '2008-08-02',\n",
       " '2008-08-03',\n",
       " '2008-08-09',\n",
       " '2008-08-10',\n",
       " '2010-07-31',\n",
       " '2010-08-01',\n",
       " '2010-08-07',\n",
       " '2010-08-08',\n",
       " '2006-12-02',\n",
       " '2006-12-03',\n",
       " '2006-12-09',\n",
       " '2006-12-10',\n",
       " '2009-10-31',\n",
       " '2009-11-01',\n",
       " '2009-11-07',\n",
       " '2009-11-08',\n",
       " '2009-08-01',\n",
       " '2009-08-02',\n",
       " '2009-08-08',\n",
       " '2009-08-09',\n",
       " '2008-05-03',\n",
       " '2008-05-04',\n",
       " '2008-05-10',\n",
       " '2008-05-11',\n",
       " '2010-05-01',\n",
       " '2010-05-02',\n",
       " '2010-05-08',\n",
       " '2010-05-09',\n",
       " '2008-11-01',\n",
       " '2008-11-02',\n",
       " '2008-11-08',\n",
       " '2008-11-09',\n",
       " '2009-05-02',\n",
       " '2009-05-03',\n",
       " '2009-05-09',\n",
       " '2009-05-10',\n",
       " '2005-09-03',\n",
       " '2005-09-04',\n",
       " '2005-09-05',\n",
       " '2005-09-10',\n",
       " '2005-09-11']"
      ]
     },
     "metadata": {},
     "output_type": "display_data"
    }
   ],
   "source": [
    "display(records, 'Market was closing on these dates:',close_dates) #we decide to call the csv file here, the result is faster than json."
   ]
  },
  {
   "cell_type": "markdown",
   "metadata": {},
   "source": [
    "### Step 3"
   ]
  },
  {
   "cell_type": "code",
   "execution_count": 460,
   "metadata": {},
   "outputs": [],
   "source": [
    "from bs4 import BeautifulSoup\n",
    "import numpy as np\n",
    "import seaborn as sns\n",
    "from matplotlib.pyplot import figure"
   ]
  },
  {
   "cell_type": "code",
   "execution_count": 381,
   "metadata": {},
   "outputs": [],
   "source": [
    "def page_result(page):\n",
    "    url = 'https://www.wrestlingdata.com/index.php?befehl=quoten&art=3&liga=1&show=&sort=1&seite={}'.format(page)\n",
    "    result_raw = requests.get(url).text\n",
    "    results = BeautifulSoup(result_raw)\n",
    "    result_parent = results.find_all('table',{'style':'width:98%;', 'cellpadding' : '4', 'cellspacing': '2'})[1]#find the physical location of the table\n",
    "    result = result_parent.find_all('tr') #each 'tr' means one row of data\n",
    "    page_stats = []\n",
    "\n",
    "    for stats in result: \n",
    "            try: \n",
    "                stats_parent = stats.find_all('td')\n",
    "                date = pd.to_datetime(stats_parent[0].text)\n",
    "                event = stats_parent[1].text\n",
    "                buyrate_relative = float(stats_parent[2].text)\n",
    "                buyrate_absolute_raw = stats_parent[3].text\n",
    "                if buyrate_absolute_raw == '-':\n",
    "                    buyrate_absolute = np.nan\n",
    "                else: \n",
    "                    buyrate_absolute = int(buyrate_absolute_raw.replace(',', '')) \n",
    "\n",
    "                row = (date, event, buyrate_relative, buyrate_absolute)\n",
    "                page_stats.append(row)\n",
    "            except: \n",
    "                continue\n",
    "    return(page_stats)\n",
    "\n"
   ]
  },
  {
   "cell_type": "code",
   "execution_count": 448,
   "metadata": {},
   "outputs": [],
   "source": [
    "def all_page_stats(n_page): \n",
    "    all_stats = pd.DataFrame()\n",
    "\n",
    "    for page in range(1,n_page+1): #there is no page 0\n",
    "        page_stats = page_result(page)\n",
    "        page_stats = pd.DataFrame(page_stats)\n",
    "\n",
    "        all_stats = pd.concat([all_stats, page_stats], ignore_index= True)\n",
    "    \n",
    "    all_stats.columns = ['date', 'event', 'buyrate_relative', 'buyrate_absolute'] # the result will be a dataframe\n",
    "\n",
    "    return(all_stats)\n"
   ]
  },
  {
   "cell_type": "code",
   "execution_count": 457,
   "metadata": {},
   "outputs": [
    {
     "data": {
      "text/html": [
       "<div>\n",
       "<style scoped>\n",
       "    .dataframe tbody tr th:only-of-type {\n",
       "        vertical-align: middle;\n",
       "    }\n",
       "\n",
       "    .dataframe tbody tr th {\n",
       "        vertical-align: top;\n",
       "    }\n",
       "\n",
       "    .dataframe thead th {\n",
       "        text-align: right;\n",
       "    }\n",
       "</style>\n",
       "<table border=\"1\" class=\"dataframe\">\n",
       "  <thead>\n",
       "    <tr style=\"text-align: right;\">\n",
       "      <th></th>\n",
       "      <th>date</th>\n",
       "      <th>event</th>\n",
       "      <th>buyrate_relative</th>\n",
       "      <th>buyrate_absolute</th>\n",
       "    </tr>\n",
       "  </thead>\n",
       "  <tbody>\n",
       "    <tr>\n",
       "      <th>0</th>\n",
       "      <td>1987-03-29</td>\n",
       "      <td>WWF WrestleMania III</td>\n",
       "      <td>10.20</td>\n",
       "      <td>4080000.0</td>\n",
       "    </tr>\n",
       "    <tr>\n",
       "      <th>1</th>\n",
       "      <td>1987-11-26</td>\n",
       "      <td>WWF Survivor Series 1987</td>\n",
       "      <td>7.00</td>\n",
       "      <td>2800000.0</td>\n",
       "    </tr>\n",
       "    <tr>\n",
       "      <th>2</th>\n",
       "      <td>1988-03-27</td>\n",
       "      <td>WWF WrestleMania IV</td>\n",
       "      <td>6.50</td>\n",
       "      <td>2600000.0</td>\n",
       "    </tr>\n",
       "    <tr>\n",
       "      <th>3</th>\n",
       "      <td>1989-04-02</td>\n",
       "      <td>WWF WrestleMania V</td>\n",
       "      <td>5.90</td>\n",
       "      <td>2360000.0</td>\n",
       "    </tr>\n",
       "    <tr>\n",
       "      <th>4</th>\n",
       "      <td>1989-08-28</td>\n",
       "      <td>WWF SummerSlam 1989</td>\n",
       "      <td>4.81</td>\n",
       "      <td>1924000.0</td>\n",
       "    </tr>\n",
       "  </tbody>\n",
       "</table>\n",
       "</div>"
      ],
      "text/plain": [
       "        date                      event  buyrate_relative  buyrate_absolute\n",
       "0 1987-03-29       WWF WrestleMania III             10.20         4080000.0\n",
       "1 1987-11-26   WWF Survivor Series 1987              7.00         2800000.0\n",
       "2 1988-03-27        WWF WrestleMania IV              6.50         2600000.0\n",
       "3 1989-04-02         WWF WrestleMania V              5.90         2360000.0\n",
       "4 1989-08-28        WWF SummerSlam 1989              4.81         1924000.0"
      ]
     },
     "execution_count": 457,
     "metadata": {},
     "output_type": "execute_result"
    }
   ],
   "source": [
    "total_data = all_page_stats(6)\n",
    "total_data.head()"
   ]
  },
  {
   "cell_type": "code",
   "execution_count": 463,
   "metadata": {},
   "outputs": [
    {
     "data": {
      "text/plain": [
       "<AxesSubplot:xlabel='date', ylabel='buyrate_absolute'>"
      ]
     },
     "execution_count": 463,
     "metadata": {},
     "output_type": "execute_result"
    },
    {
     "data": {
      "image/png": "[encoded data removed]",
      "text/plain": [
       "<Figure size 864x576 with 1 Axes>"
      ]
     },
     "metadata": {
      "needs_background": "light"
     },
     "output_type": "display_data"
    }
   ],
   "source": [
    "figure(figsize=(12, 8))\n",
    "sns.lineplot(data= total_data, x = 'date', y= 'buyrate_absolute')\n",
    "#it seems like the absolute buyrate drop ever since 80s and remain a in range after 1998"
   ]
  }
 ],
 "metadata": {
  "interpreter": {
   "hash": "2e62f6ad7896f434c64a9beb4b06389abcc29bb2ba2f8a91e1cd9584e65bd7fd"
  },
  "kernelspec": {
   "display_name": "Python 3.9.7 64-bit ('base': conda)",
   "language": "python",
   "name": "python3"
  },
  "language_info": {
   "codemirror_mode": {
    "name": "ipython",
    "version": 3
   },
   "file_extension": ".py",
   "mimetype": "text/x-python",
   "name": "python",
   "nbconvert_exporter": "python",
   "pygments_lexer": "ipython3",
   "version": "3.9.7"
  },
  "orig_nbformat": 4
 },
 "nbformat": 4,
 "nbformat_minor": 2
}
