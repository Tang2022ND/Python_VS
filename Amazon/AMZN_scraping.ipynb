{
 "cells": [
  {
   "cell_type": "code",
   "execution_count": 1,
   "metadata": {},
   "outputs": [],
   "source": [
    "from bs4 import BeautifulSoup\n",
    "import pandas as pd\n",
    "import requests\n",
    "from selenium import webdriver\n",
    "from webdrivermanager.chrome import ChromeDriverManager"
   ]
  },
  {
   "cell_type": "code",
   "execution_count": 2,
   "metadata": {},
   "outputs": [
    {
     "data": {
      "text/plain": [
       "<function webdrivermanager.chrome.ChromeDriverManager.get_latest_version(self)>"
      ]
     },
     "execution_count": 2,
     "metadata": {},
     "output_type": "execute_result"
    }
   ],
   "source": [
    "ChromeDriverManager.download_and_install\n",
    "ChromeDriverManager.get_latest_version"
   ]
  },
  {
   "cell_type": "code",
   "execution_count": 3,
   "metadata": {},
   "outputs": [],
   "source": [
    "#chrome driver address\n",
    "driver = webdriver.Chrome(r\"C:\\Users\\TF2020\\AppData\\Local\\rasjani\\WebDriverManager\\bin\\chromedriver.exe\")\n",
    "driver_2 = webdriver.Chrome(r\"C:\\Users\\TF2020\\AppData\\Local\\rasjani\\WebDriverManager\\bin\\chromedriver.exe\")"
   ]
  },
  {
   "cell_type": "markdown",
   "metadata": {},
   "source": [
    "function"
   ]
  },
  {
   "cell_type": "code",
   "execution_count": 128,
   "metadata": {},
   "outputs": [],
   "source": [
    "def get_url(search):\n",
    "    url_temp = 'https://www.amazon.com/s?k={}'\n",
    "    search = search.replace(' ', '+')\n",
    "    url = url_temp.format(search)\n",
    "    url += '&page={}'\n",
    "    return url\n",
    "\n",
    "\n",
    "def item_stats(item):\n",
    "\n",
    "    atag = item.h2.a\n",
    "    description = atag.text.strip()\n",
    "    ASIN = item.get('data-asin')\n",
    "    item_url = 'https://www.amazon.com/dp/'+ ASIN\n",
    "    \n",
    "    price_parent = item.find('span',  'a-price')\n",
    "    try:\n",
    "        price = price_parent.find('span', 'a-offscreen').text\n",
    "    except:\n",
    "        price = 'no_price'\n",
    "    try:\n",
    "        rating = item.i.text.split(' ')[0]\n",
    "        review_count = item.find('span', {'class': 'a-size-base'}).text\n",
    "    except:\n",
    "        rating = 'no_rating'\n",
    "        review_count = 'no_review'\n",
    "    \n",
    "    if item.find('i', {'aria-label': 'Amazon Prime'}):\n",
    "            prime = 'Yes'\n",
    "    else:\n",
    "        prime = 'No'\n",
    "    \n",
    "    try: \n",
    "        promo = item.find('span', {'class': 'a-color-secondary'}).text \n",
    "        if promo == 'Featured from our brands' or promo == 'Sponsored' :\n",
    "            is_promotion = promo\n",
    "        else: is_promotion = 'No'\n",
    "    except:\n",
    "        is_promotion = 'No'\n",
    "\n",
    "    \n",
    "\n",
    "\n",
    "\n",
    "    stats = (description,ASIN,item_url,price,rating,review_count,prime,is_promotion)\n",
    "\n",
    "    return stats\n",
    "\n",
    "def seach_items(search):\n",
    "\n",
    "    records = []\n",
    "    url = get_url(search)\n",
    "\n",
    "# range(1,21), I only need first 3 pages so\n",
    "    for page in range(1,4):\n",
    "        driver.get(url.format(page))\n",
    "        soup = BeautifulSoup(driver.page_source, 'html.parser')\n",
    "        results = soup.find_all('div',{'data-component-type': 's-search-result'})\n",
    "\n",
    "        for item in results:\n",
    "            result = item_stats(item)\n",
    "            records.append(result)\n",
    "    return records"
   ]
  },
  {
   "cell_type": "code",
   "execution_count": 131,
   "metadata": {},
   "outputs": [],
   "source": [
    "results = seach_items('TV')\n",
    "df_amzn = pd.DataFrame(results)"
   ]
  },
  {
   "cell_type": "code",
   "execution_count": 105,
   "metadata": {},
   "outputs": [
    {
     "data": {
      "text/plain": [
       "'Sponsored'"
      ]
     },
     "execution_count": 105,
     "metadata": {},
     "output_type": "execute_result"
    }
   ],
   "source": [
    "url = get_url('TV')\n",
    "driver.get(url)\n",
    "soup = BeautifulSoup(driver.page_source, 'html.parser')\n",
    "results = soup.find_all('div',{'data-component-type': 's-search-result'})\n",
    "item = results[1]\n",
    "item.find('span', {'class': 'a-color-secondary'}).text\n"
   ]
  },
  {
   "cell_type": "code",
   "execution_count": 93,
   "metadata": {},
   "outputs": [],
   "source": [
    "item.find('div', {'data-asin': 'B08Z1RN7NP'})"
   ]
  },
  {
   "cell_type": "code",
   "execution_count": 112,
   "metadata": {},
   "outputs": [
    {
     "data": {
      "text/plain": [
       "'B094MZL6R1'"
      ]
     },
     "execution_count": 112,
     "metadata": {},
     "output_type": "execute_result"
    }
   ],
   "source": [
    "atag = item.h2.a\n",
    "description = atag.text.strip()\n",
    "url = 'https://www.amazon.com'+atag.get('href')\n",
    "item.get('data-asin')"
   ]
  },
  {
   "cell_type": "code",
   "execution_count": null,
   "metadata": {},
   "outputs": [],
   "source": [
    "#scraping the item deeper info\n",
    "driver_2.get(item_url)\n",
    "soup_item = BeautifulSoup(driver_2.page_source, 'html.parser')\n",
    "try:\n",
    "    item_result = soup_item.find('div',{'id': 'prodDetails'},{'class': 'a-section'})\n",
    "    date_parent = item_result.find_all('td',{'class':'a-size-base prodDetAttrValue'})\n",
    "    Release_date = date_parent[-1].text\n",
    "except:\n",
    "    Release_date = 'Unknown'"
   ]
  },
  {
   "cell_type": "code",
   "execution_count": null,
   "metadata": {},
   "outputs": [],
   "source": []
  }
 ],
 "metadata": {
  "interpreter": {
   "hash": "2e62f6ad7896f434c64a9beb4b06389abcc29bb2ba2f8a91e1cd9584e65bd7fd"
  },
  "kernelspec": {
   "display_name": "Python 3.9.7 64-bit ('base': conda)",
   "language": "python",
   "name": "python3"
  },
  "language_info": {
   "codemirror_mode": {
    "name": "ipython",
    "version": 3
   },
   "file_extension": ".py",
   "mimetype": "text/x-python",
   "name": "python",
   "nbconvert_exporter": "python",
   "pygments_lexer": "ipython3",
   "version": "3.9.7"
  },
  "orig_nbformat": 4
 },
 "nbformat": 4,
 "nbformat_minor": 2
}
